{
 "cells": [
  {
   "cell_type": "code",
   "execution_count": 16,
   "metadata": {},
   "outputs": [],
   "source": [
    "import requests\n",
    "import json\n",
    "from json import JSONDecodeError\n",
    "import pandas as pd\n",
    "from pandas import json_normalize\n",
    "import numpy as np"
   ]
  },
  {
   "cell_type": "code",
   "execution_count": 62,
   "metadata": {},
   "outputs": [
    {
     "data": {
      "text/html": [
       "<div>\n",
       "<style scoped>\n",
       "    .dataframe tbody tr th:only-of-type {\n",
       "        vertical-align: middle;\n",
       "    }\n",
       "\n",
       "    .dataframe tbody tr th {\n",
       "        vertical-align: top;\n",
       "    }\n",
       "\n",
       "    .dataframe thead th {\n",
       "        text-align: right;\n",
       "    }\n",
       "</style>\n",
       "<table border=\"1\" class=\"dataframe\">\n",
       "  <thead>\n",
       "    <tr style=\"text-align: right;\">\n",
       "      <th></th>\n",
       "      <th>ID State</th>\n",
       "      <th>State</th>\n",
       "      <th>ID Year</th>\n",
       "      <th>Year</th>\n",
       "      <th>Population</th>\n",
       "      <th>Slug State</th>\n",
       "    </tr>\n",
       "  </thead>\n",
       "  <tbody>\n",
       "    <tr>\n",
       "      <th>0</th>\n",
       "      <td>04000US01</td>\n",
       "      <td>Alabama</td>\n",
       "      <td>2020</td>\n",
       "      <td>2020</td>\n",
       "      <td>4893186</td>\n",
       "      <td>alabama</td>\n",
       "    </tr>\n",
       "    <tr>\n",
       "      <th>1</th>\n",
       "      <td>04000US02</td>\n",
       "      <td>Alaska</td>\n",
       "      <td>2020</td>\n",
       "      <td>2020</td>\n",
       "      <td>736990</td>\n",
       "      <td>alaska</td>\n",
       "    </tr>\n",
       "    <tr>\n",
       "      <th>2</th>\n",
       "      <td>04000US04</td>\n",
       "      <td>Arizona</td>\n",
       "      <td>2020</td>\n",
       "      <td>2020</td>\n",
       "      <td>7174064</td>\n",
       "      <td>arizona</td>\n",
       "    </tr>\n",
       "    <tr>\n",
       "      <th>3</th>\n",
       "      <td>04000US05</td>\n",
       "      <td>Arkansas</td>\n",
       "      <td>2020</td>\n",
       "      <td>2020</td>\n",
       "      <td>3011873</td>\n",
       "      <td>arkansas</td>\n",
       "    </tr>\n",
       "    <tr>\n",
       "      <th>4</th>\n",
       "      <td>04000US06</td>\n",
       "      <td>California</td>\n",
       "      <td>2020</td>\n",
       "      <td>2020</td>\n",
       "      <td>39346023</td>\n",
       "      <td>california</td>\n",
       "    </tr>\n",
       "    <tr>\n",
       "      <th>...</th>\n",
       "      <td>...</td>\n",
       "      <td>...</td>\n",
       "      <td>...</td>\n",
       "      <td>...</td>\n",
       "      <td>...</td>\n",
       "      <td>...</td>\n",
       "    </tr>\n",
       "    <tr>\n",
       "      <th>411</th>\n",
       "      <td>04000US53</td>\n",
       "      <td>Washington</td>\n",
       "      <td>2013</td>\n",
       "      <td>2013</td>\n",
       "      <td>6819579</td>\n",
       "      <td>washington</td>\n",
       "    </tr>\n",
       "    <tr>\n",
       "      <th>412</th>\n",
       "      <td>04000US54</td>\n",
       "      <td>West Virginia</td>\n",
       "      <td>2013</td>\n",
       "      <td>2013</td>\n",
       "      <td>1853619</td>\n",
       "      <td>west-virginia</td>\n",
       "    </tr>\n",
       "    <tr>\n",
       "      <th>413</th>\n",
       "      <td>04000US55</td>\n",
       "      <td>Wisconsin</td>\n",
       "      <td>2013</td>\n",
       "      <td>2013</td>\n",
       "      <td>5706871</td>\n",
       "      <td>wisconsin</td>\n",
       "    </tr>\n",
       "    <tr>\n",
       "      <th>414</th>\n",
       "      <td>04000US56</td>\n",
       "      <td>Wyoming</td>\n",
       "      <td>2013</td>\n",
       "      <td>2013</td>\n",
       "      <td>570134</td>\n",
       "      <td>wyoming</td>\n",
       "    </tr>\n",
       "    <tr>\n",
       "      <th>415</th>\n",
       "      <td>04000US72</td>\n",
       "      <td>Puerto Rico</td>\n",
       "      <td>2013</td>\n",
       "      <td>2013</td>\n",
       "      <td>3682966</td>\n",
       "      <td>puerto-rico</td>\n",
       "    </tr>\n",
       "  </tbody>\n",
       "</table>\n",
       "<p>416 rows × 6 columns</p>\n",
       "</div>"
      ],
      "text/plain": [
       "      ID State          State  ID Year  Year  Population     Slug State\n",
       "0    04000US01        Alabama     2020  2020     4893186        alabama\n",
       "1    04000US02         Alaska     2020  2020      736990         alaska\n",
       "2    04000US04        Arizona     2020  2020     7174064        arizona\n",
       "3    04000US05       Arkansas     2020  2020     3011873       arkansas\n",
       "4    04000US06     California     2020  2020    39346023     california\n",
       "..         ...            ...      ...   ...         ...            ...\n",
       "411  04000US53     Washington     2013  2013     6819579     washington\n",
       "412  04000US54  West Virginia     2013  2013     1853619  west-virginia\n",
       "413  04000US55      Wisconsin     2013  2013     5706871      wisconsin\n",
       "414  04000US56        Wyoming     2013  2013      570134        wyoming\n",
       "415  04000US72    Puerto Rico     2013  2013     3682966    puerto-rico\n",
       "\n",
       "[416 rows x 6 columns]"
      ]
     },
     "execution_count": 62,
     "metadata": {},
     "output_type": "execute_result"
    }
   ],
   "source": [
    "url = (\"https://datausa.io/api/data?drilldowns=State&measures=Population\")\n",
    "response = requests.get(url)\n",
    "json = response.json()\n",
    "df = pd.json_normalize(data = json, record_path = [\"data\"])\n",
    "df"
   ]
  },
  {
   "attachments": {},
   "cell_type": "markdown",
   "metadata": {},
   "source": [
    "TWO descriptive statistics about data."
   ]
  },
  {
   "cell_type": "code",
   "execution_count": 86,
   "metadata": {},
   "outputs": [
    {
     "name": "stdout",
     "output_type": "stream",
     "text": [
      "The average state population for all years is 6210951.401442308\n",
      "The total state population for all years is 2583755783\n"
     ]
    }
   ],
   "source": [
    "avg_population = mean(df[\"Population\"])\n",
    "print(\"The average state population for all years is \" + str(avg_population) + \"\")\n",
    "\n",
    "total_population = sum(df[\"Population\"])\n",
    "print(\"The total state population for all years is \" + str(total_population) + \"\")\n"
   ]
  },
  {
   "attachments": {},
   "cell_type": "markdown",
   "metadata": {},
   "source": [
    "Pandas query to select a particular set of data."
   ]
  },
  {
   "cell_type": "code",
   "execution_count": 117,
   "metadata": {},
   "outputs": [
    {
     "name": "stdout",
     "output_type": "stream",
     "text": [
      "      ID State     State  ID Year  Year  Population Slug State\n",
      "17   04000US21  Kentucky     2020  2020     4461952   kentucky\n",
      "69   04000US21  Kentucky     2019  2019     4449052   kentucky\n",
      "121  04000US21  Kentucky     2018  2018     4440204   kentucky\n",
      "173  04000US21  Kentucky     2017  2017     4424376   kentucky\n",
      "225  04000US21  Kentucky     2016  2016     4411989   kentucky\n",
      "277  04000US21  Kentucky     2015  2015     4397353   kentucky\n",
      "329  04000US21  Kentucky     2014  2014     4383272   kentucky\n",
      "381  04000US21  Kentucky     2013  2013     4361333   kentucky\n"
     ]
    }
   ],
   "source": [
    "new_data = df.query(\"State == 'Kentucky'\")\n",
    "print(new_data)"
   ]
  },
  {
   "attachments": {},
   "cell_type": "markdown",
   "metadata": {},
   "source": [
    "Select and Print second and third columns of data"
   ]
  },
  {
   "cell_type": "code",
   "execution_count": 118,
   "metadata": {},
   "outputs": [
    {
     "data": {
      "text/html": [
       "<div>\n",
       "<style scoped>\n",
       "    .dataframe tbody tr th:only-of-type {\n",
       "        vertical-align: middle;\n",
       "    }\n",
       "\n",
       "    .dataframe tbody tr th {\n",
       "        vertical-align: top;\n",
       "    }\n",
       "\n",
       "    .dataframe thead th {\n",
       "        text-align: right;\n",
       "    }\n",
       "</style>\n",
       "<table border=\"1\" class=\"dataframe\">\n",
       "  <thead>\n",
       "    <tr style=\"text-align: right;\">\n",
       "      <th></th>\n",
       "      <th>State</th>\n",
       "      <th>ID Year</th>\n",
       "    </tr>\n",
       "  </thead>\n",
       "  <tbody>\n",
       "    <tr>\n",
       "      <th>17</th>\n",
       "      <td>Kentucky</td>\n",
       "      <td>2020</td>\n",
       "    </tr>\n",
       "    <tr>\n",
       "      <th>69</th>\n",
       "      <td>Kentucky</td>\n",
       "      <td>2019</td>\n",
       "    </tr>\n",
       "    <tr>\n",
       "      <th>121</th>\n",
       "      <td>Kentucky</td>\n",
       "      <td>2018</td>\n",
       "    </tr>\n",
       "    <tr>\n",
       "      <th>173</th>\n",
       "      <td>Kentucky</td>\n",
       "      <td>2017</td>\n",
       "    </tr>\n",
       "    <tr>\n",
       "      <th>225</th>\n",
       "      <td>Kentucky</td>\n",
       "      <td>2016</td>\n",
       "    </tr>\n",
       "    <tr>\n",
       "      <th>277</th>\n",
       "      <td>Kentucky</td>\n",
       "      <td>2015</td>\n",
       "    </tr>\n",
       "    <tr>\n",
       "      <th>329</th>\n",
       "      <td>Kentucky</td>\n",
       "      <td>2014</td>\n",
       "    </tr>\n",
       "    <tr>\n",
       "      <th>381</th>\n",
       "      <td>Kentucky</td>\n",
       "      <td>2013</td>\n",
       "    </tr>\n",
       "  </tbody>\n",
       "</table>\n",
       "</div>"
      ],
      "text/plain": [
       "        State  ID Year\n",
       "17   Kentucky     2020\n",
       "69   Kentucky     2019\n",
       "121  Kentucky     2018\n",
       "173  Kentucky     2017\n",
       "225  Kentucky     2016\n",
       "277  Kentucky     2015\n",
       "329  Kentucky     2014\n",
       "381  Kentucky     2013"
      ]
     },
     "execution_count": 118,
     "metadata": {},
     "output_type": "execute_result"
    }
   ],
   "source": [
    "new_data.iloc[:, [1,2]]"
   ]
  },
  {
   "attachments": {},
   "cell_type": "markdown",
   "metadata": {},
   "source": [
    "Select and print first four rows of data"
   ]
  },
  {
   "cell_type": "code",
   "execution_count": 120,
   "metadata": {},
   "outputs": [
    {
     "data": {
      "text/html": [
       "<div>\n",
       "<style scoped>\n",
       "    .dataframe tbody tr th:only-of-type {\n",
       "        vertical-align: middle;\n",
       "    }\n",
       "\n",
       "    .dataframe tbody tr th {\n",
       "        vertical-align: top;\n",
       "    }\n",
       "\n",
       "    .dataframe thead th {\n",
       "        text-align: right;\n",
       "    }\n",
       "</style>\n",
       "<table border=\"1\" class=\"dataframe\">\n",
       "  <thead>\n",
       "    <tr style=\"text-align: right;\">\n",
       "      <th></th>\n",
       "      <th>ID State</th>\n",
       "      <th>State</th>\n",
       "      <th>ID Year</th>\n",
       "      <th>Year</th>\n",
       "      <th>Population</th>\n",
       "      <th>Slug State</th>\n",
       "    </tr>\n",
       "  </thead>\n",
       "  <tbody>\n",
       "    <tr>\n",
       "      <th>17</th>\n",
       "      <td>04000US21</td>\n",
       "      <td>Kentucky</td>\n",
       "      <td>2020</td>\n",
       "      <td>2020</td>\n",
       "      <td>4461952</td>\n",
       "      <td>kentucky</td>\n",
       "    </tr>\n",
       "    <tr>\n",
       "      <th>69</th>\n",
       "      <td>04000US21</td>\n",
       "      <td>Kentucky</td>\n",
       "      <td>2019</td>\n",
       "      <td>2019</td>\n",
       "      <td>4449052</td>\n",
       "      <td>kentucky</td>\n",
       "    </tr>\n",
       "    <tr>\n",
       "      <th>121</th>\n",
       "      <td>04000US21</td>\n",
       "      <td>Kentucky</td>\n",
       "      <td>2018</td>\n",
       "      <td>2018</td>\n",
       "      <td>4440204</td>\n",
       "      <td>kentucky</td>\n",
       "    </tr>\n",
       "    <tr>\n",
       "      <th>173</th>\n",
       "      <td>04000US21</td>\n",
       "      <td>Kentucky</td>\n",
       "      <td>2017</td>\n",
       "      <td>2017</td>\n",
       "      <td>4424376</td>\n",
       "      <td>kentucky</td>\n",
       "    </tr>\n",
       "  </tbody>\n",
       "</table>\n",
       "</div>"
      ],
      "text/plain": [
       "      ID State     State  ID Year  Year  Population Slug State\n",
       "17   04000US21  Kentucky     2020  2020     4461952   kentucky\n",
       "69   04000US21  Kentucky     2019  2019     4449052   kentucky\n",
       "121  04000US21  Kentucky     2018  2018     4440204   kentucky\n",
       "173  04000US21  Kentucky     2017  2017     4424376   kentucky"
      ]
     },
     "execution_count": 120,
     "metadata": {},
     "output_type": "execute_result"
    }
   ],
   "source": [
    "new_data.head(4)"
   ]
  }
 ],
 "metadata": {
  "kernelspec": {
   "display_name": "Python 3.10.6 64-bit",
   "language": "python",
   "name": "python3"
  },
  "language_info": {
   "codemirror_mode": {
    "name": "ipython",
    "version": 3
   },
   "file_extension": ".py",
   "mimetype": "text/x-python",
   "name": "python",
   "nbconvert_exporter": "python",
   "pygments_lexer": "ipython3",
   "version": "3.10.6"
  },
  "orig_nbformat": 4,
  "vscode": {
   "interpreter": {
    "hash": "fa68c089f60f32f0729ba88e1b7f1fd983f6fd219858fc61304cadaefd10aab5"
   }
  }
 },
 "nbformat": 4,
 "nbformat_minor": 2
}
